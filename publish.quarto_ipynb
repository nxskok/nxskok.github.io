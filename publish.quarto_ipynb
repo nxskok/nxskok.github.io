{
  "cells": [
    {
      "cell_type": "markdown",
      "metadata": {},
      "source": [
        "code to publish website\n",
        "\n",
        "\n",
        "\n",
        "\n",
        "```{bash}\n",
        "quarto publish gh-pages --no-prompt --no-browser\n",
        "```"
      ],
      "id": "5487ce31"
    }
  ],
  "metadata": {
    "kernelspec": {
      "display_name": "Python 3",
      "language": "python",
      "name": "python3"
    }
  },
  "nbformat": 4,
  "nbformat_minor": 5
}